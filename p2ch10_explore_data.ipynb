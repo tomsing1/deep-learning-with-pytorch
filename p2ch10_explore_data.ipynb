{
 "cells": [
  {
   "cell_type": "code",
   "execution_count": 1,
   "metadata": {},
   "outputs": [],
   "source": [
    "%%capture\n",
    "import sys\n",
    "!{sys.executable} -m pip install SimpleITK==2.2.1 cassandra-driver==3.27.0 diskcache==4.1.0 \\\n",
    "    ipympl==0.9.3 ipyvolume==0.6.1"
   ]
  },
  {
   "cell_type": "code",
   "execution_count": 2,
   "metadata": {
    "tags": []
   },
   "outputs": [],
   "source": [
    "import ipyvolume as ipv\n",
    "import matplotlib.pyplot as plt\n",
    "import numpy as np\n",
    "import scipy.ndimage.morphology\n",
    "from p2ch10.dsets import getCandidateInfoList, getCt, LunaDataset\n",
    "from p2ch10.vis import findPositiveSamples, showCandidate"
   ]
  },
  {
   "cell_type": "code",
   "execution_count": null,
   "metadata": {
    "tags": []
   },
   "outputs": [],
   "source": [
    "candidateInfo_list = getCandidateInfoList(requireOnDisk_bool=True)\n",
    "positiveInfo_list = [x for x in candidateInfo_list if x[0]]\n",
    "diameter_list = [x[1] for x in positiveInfo_list]"
   ]
  },
  {
   "cell_type": "code",
   "execution_count": null,
   "metadata": {},
   "outputs": [],
   "source": [
    "print(len(positiveInfo_list))\n",
    "print(positiveInfo_list[0])"
   ]
  },
  {
   "cell_type": "code",
   "execution_count": null,
   "metadata": {},
   "outputs": [],
   "source": [
    "for i in range(0, len(diameter_list), 100):\n",
    "    print('{:4}  {:4.1f} mm'.format(i, diameter_list[i]))"
   ]
  },
  {
   "cell_type": "code",
   "execution_count": null,
   "metadata": {},
   "outputs": [],
   "source": [
    "for candidateInfo_tup in positiveInfo_list[:3]:\n",
    "    print(candidateInfo_tup)\n",
    "for candidateInfo_tup in positiveInfo_list[-3:]:\n",
    "    print(candidateInfo_tup)\n",
    "    \n",
    "for candidateInfo_tup in positiveInfo_list:\n",
    "    if candidateInfo_tup.series_uid.endswith('565'):\n",
    "        print(candidateInfo_tup)"
   ]
  },
  {
   "cell_type": "code",
   "execution_count": null,
   "metadata": {},
   "outputs": [],
   "source": [
    "np.histogram(diameter_list)"
   ]
  },
  {
   "cell_type": "code",
   "execution_count": null,
   "metadata": {},
   "outputs": [],
   "source": [
    "%matplotlib inline\n",
    "_ = plt.hist(diameter_list, bins='auto')  # arguments are passed to np.histogram\n",
    "plt.title(\"Histogram of nodule diameters\")"
   ]
  },
  {
   "cell_type": "code",
   "execution_count": null,
   "metadata": {},
   "outputs": [],
   "source": [
    "positiveSample_list = findPositiveSamples(start_ndx=0, limit=11)"
   ]
  },
  {
   "cell_type": "code",
   "execution_count": null,
   "metadata": {},
   "outputs": [],
   "source": [
    "series_uid = positiveSample_list[0][2]\n",
    "series_uid"
   ]
  },
  {
   "cell_type": "code",
   "execution_count": null,
   "metadata": {},
   "outputs": [],
   "source": [
    "candidateInfo_list[0]"
   ]
  },
  {
   "cell_type": "code",
   "execution_count": null,
   "metadata": {},
   "outputs": [],
   "source": [
    "# %matplotlib inline\n",
    "series_uid = '1.3.6.1.4.1.14519.5.2.1.6279.6001.124154461048929153767743874565'\n",
    "showCandidate(series_uid)"
   ]
  },
  {
   "cell_type": "code",
   "execution_count": null,
   "metadata": {},
   "outputs": [],
   "source": [
    "# %matplotlib inline\n",
    "series_uid = '1.3.6.1.4.1.14519.5.2.1.6279.6001.287966244644280690737019247886'\n",
    "showCandidate(series_uid)"
   ]
  },
  {
   "cell_type": "code",
   "execution_count": null,
   "metadata": {},
   "outputs": [],
   "source": [
    "LunaDataset()[0]"
   ]
  },
  {
   "cell_type": "code",
   "execution_count": null,
   "metadata": {},
   "outputs": [],
   "source": [
    "# V = np.zeros((128,128,128)) # our 3d array\n",
    "# # outer box\n",
    "# V[30:-30,30:-30,30:-30] = 0.75\n",
    "# V[35:-35,35:-35,35:-35] = 0.0\n",
    "# # inner box\n",
    "# V[50:-50,50:-50,50:-50] = 0.25\n",
    "# V[55:-55,55:-55,55:-55] = 0.0\n",
    "# ipv.quickvolshow(V, level=[0.25, 0.75], opacity=0.03, level_width=0.1, data_min=0, data_max=1)\n"
   ]
  },
  {
   "cell_type": "code",
   "execution_count": null,
   "metadata": {},
   "outputs": [],
   "source": [
    "# ct = getCt(series_uid)\n",
    "# ipv.quickvolshow(ct.hu_a, level=[0.25, 0.5, 0.9], opacity=0.1, level_width=0.1, data_min=-1000, data_max=1000)"
   ]
  },
  {
   "cell_type": "markdown",
   "metadata": {},
   "source": [
    "# Note: the following visualization doesn't look very good.\n",
    "It's only included here for completeness. "
   ]
  },
  {
   "cell_type": "code",
   "execution_count": null,
   "metadata": {},
   "outputs": [],
   "source": [
    "def build2dLungMask(ct, mask_ndx, threshold_gcc = 0.7):\n",
    "    dense_mask = ct.hu_a[mask_ndx] > threshold_gcc\n",
    "    denoise_mask = scipy.ndimage.morphology.binary_closing(dense_mask, iterations=2)\n",
    "    tissue_mask = scipy.ndimage.morphology.binary_opening(denoise_mask, iterations=10)\n",
    "    body_mask = scipy.ndimage.morphology.binary_fill_holes(tissue_mask)\n",
    "    air_mask = scipy.ndimage.morphology.binary_fill_holes(body_mask & ~tissue_mask)\n",
    "\n",
    "    lung_mask = scipy.ndimage.morphology.binary_dilation(air_mask, iterations=2)\n",
    "\n",
    "    return air_mask, lung_mask, dense_mask, denoise_mask, tissue_mask, body_mask\n",
    "\n",
    "\n",
    "def build3dLungMask(ct):\n",
    "    air_mask, lung_mask, dense_mask, denoise_mask, tissue_mask, body_mask = mask_list = \\\n",
    "        [np.zeros_like(ct.hu_a, dtype=np.bool) for _ in range(6)]\n",
    "\n",
    "    for mask_ndx in range(ct.hu_a.shape[0]):\n",
    "        for i, mask_ary in enumerate(build2dLungMask(ct, mask_ndx)):\n",
    "            mask_list[i][mask_ndx] = mask_ary\n",
    "\n",
    "    return air_mask, lung_mask, dense_mask, denoise_mask, tissue_mask, body_mask"
   ]
  },
  {
   "cell_type": "code",
   "execution_count": null,
   "metadata": {},
   "outputs": [],
   "source": [
    "ct = getCt(series_uid)\n",
    "air_mask, lung_mask, dense_mask, denoise_mask, tissue_mask, body_mask = build3dLungMask(ct)\n"
   ]
  },
  {
   "cell_type": "code",
   "execution_count": null,
   "metadata": {},
   "outputs": [],
   "source": [
    "# bones = ct.hu_a * (ct.hu_a > 1.5)\n",
    "# lungs = ct.hu_a * air_mask\n",
    "# ipv.figure()\n",
    "# ipv.pylab.volshow(bones + lungs, level=[0.17, 0.17, 0.23], data_min=100, data_max=900)\n",
    "# ipv.show()"
   ]
  }
 ],
 "metadata": {
  "kernelspec": {
   "display_name": "Python 3 (ipykernel)",
   "language": "python",
   "name": "python3"
  },
  "language_info": {
   "codemirror_mode": {
    "name": "ipython",
    "version": 3
   },
   "file_extension": ".py",
   "mimetype": "text/x-python",
   "name": "python",
   "nbconvert_exporter": "python",
   "pygments_lexer": "ipython3",
   "version": "3.9.16"
  }
 },
 "nbformat": 4,
 "nbformat_minor": 4
}
