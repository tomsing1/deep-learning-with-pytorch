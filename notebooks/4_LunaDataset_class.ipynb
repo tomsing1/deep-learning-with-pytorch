{
 "cells": [
  {
   "cell_type": "code",
   "execution_count": null,
   "id": "cba16fb6-0fb2-413b-8772-65baa87634fa",
   "metadata": {},
   "outputs": [],
   "source": [
    "%%capture\n",
    "import sys\n",
    "!{sys.executable} -m pip install SimpleITK==2.2.1 cassandra-driver==3.27.0 diskcache==4.1.0"
   ]
  },
  {
   "cell_type": "markdown",
   "id": "2c8913d1-f78b-4e0f-85ad-475843c213f6",
   "metadata": {},
   "source": [
    "# The LunaDataSet Class\n",
    "\n",
    "In this notebook, I work through the implementation of the `LunaDataSet` class, a\n",
    "subclass of the `DataSet` class provided by Pytorch. \n",
    "It is implemented in the `p2ch10/dsets.py` module.\n",
    "\n",
    "A subclass must implement:\n",
    "\n",
    "- `__len__` : The number of all candidate nodules in the dataset for which image data is available. (The full list of candidates is available in the `candidates.csv` file.)\n",
    "\n",
    "and\n",
    "\n",
    "- `__getitem__` methods: Returns a tuple with information about the nodule, as well as the cropped image data (as a tensor) centered on the nodule."
   ]
  },
  {
   "cell_type": "code",
   "execution_count": null,
   "id": "49e26e82-5605-4266-91ce-a62b61e896ea",
   "metadata": {},
   "outputs": [],
   "source": [
    "import copy\n",
    "\n",
    "class LunaDataset(Dataset):\n",
    "    def __init__(self,\n",
    "                 val_stride=0,\n",
    "                 isValSet_bool=None,\n",
    "                 series_uid=None,\n",
    "            ):\n",
    "        # compile `candidates.csv` and `annotations.csv` into a list of nodules\n",
    "        # as implemented in dsets.py - make a copy so the original is never modified\n",
    "        self.candidateInfo_list = copy.copy(getCandidateInfoList())\n",
    "\n",
    "        # subset to the candidate list to the requested uid, if it has been provided\n",
    "        if series_uid:\n",
    "            self.candidateInfo_list = [\n",
    "                x for x in self.candidateInfo_list if x.series_uid == series_uid\n",
    "            ]\n",
    "\n",
    "        # subset to validation dataset by slicing the candidate list\n",
    "        if isValSet_bool:\n",
    "            assert val_stride > 0, val_stride\n",
    "            self.candidateInfo_list = self.candidateInfo_list[::val_stride]\n",
    "            assert self.candidateInfo_list\n",
    "        # or remove the validation data instead\n",
    "        elif val_stride > 0:\n",
    "            del self.candidateInfo_list[::val_stride]\n",
    "            assert self.candidateInfo_list\n",
    "\n",
    "        # {!r} is equivalent to {repr()}, e.g. returning the representation of the object\n",
    "        log.info(\"{!r}: {} {} samples\".format(\n",
    "            self,\n",
    "            len(self.candidateInfo_list),\n",
    "            \"validation\" if isValSet_bool else \"training\",\n",
    "        ))\n",
    "\n",
    "    def __len__(self):\n",
    "        return len(self.candidateInfo_list)\n",
    "\n",
    "    def __getitem__(self, ndx):\n",
    "        candidateInfo_tup = self.candidateInfo_list[ndx]\n",
    "        width_irc = (32, 48, 48)  # width of the zoomed-in IRC array\n",
    "\n",
    "        candidate_a, center_irc = getCtRawCandidate(\n",
    "            candidateInfo_tup.series_uid,\n",
    "            candidateInfo_tup.center_xyz,\n",
    "            width_irc,\n",
    "        )\n",
    "        # convert the candidate array into a tensor\n",
    "        candidate_t = torch.from_numpy(candidate_a)\n",
    "        candidate_t = candidate_t.to(torch.float32)\n",
    "        candidate_t = candidate_t.unsqueeze(0)  # add channel dimension\n",
    "\n",
    "        # the class of the candidate nodule, as a 1D tensor of length 2\n",
    "        # as expected by nn.CrossEntropyLoss\n",
    "        pos_t = torch.tensor([\n",
    "                not candidateInfo_tup.isNodule_bool,\n",
    "                candidateInfo_tup.isNodule_bool\n",
    "            ],\n",
    "            dtype=torch.long,\n",
    "        )\n",
    "\n",
    "        return (\n",
    "            candidate_t,  # image data (tensor)\n",
    "            pos_t,  # class (tensor)\n",
    "            candidateInfo_tup.series_uid,  # unique id (string)\n",
    "            torch.tensor(center_irc),  # center coordinates (tensor)\n",
    "        )"
   ]
  },
  {
   "cell_type": "markdown",
   "id": "b2894bb5-5759-49fd-8188-a769b215f49c",
   "metadata": {},
   "source": [
    "## Caching\n",
    "\n",
    "The `__getitem__` method of a `LunaDataSet` returns one specific nodule from a Ct scan\n",
    "at a time. That would require reading the large image from disk _every time_, slowing\n",
    "down the workflow.\n",
    "\n",
    "We can speed up the operation by caching the image, using different approaches."
   ]
  },
  {
   "cell_type": "code",
   "execution_count": null,
   "id": "281861e1-bd73-4680-b676-6c3bcb0472f6",
   "metadata": {},
   "outputs": [],
   "source": [
    "@functools.lru_cache(1, typed=True)\n",
    "def getCt(series_uid):\n",
    "    return Ct(series_uid)\n",
    "\n",
    "@raw_cache.memoize(typed=True)\n",
    "def getCtRawCandidate(series_uid, center_xyz, width_irc):\n",
    "    ct = getCt(series_uid)\n",
    "    ct_chunk, center_irc = ct.getRawCandidate(center_xyz, width_irc)\n",
    "    return ct_chunk, center_irc\n"
   ]
  },
  {
   "cell_type": "markdown",
   "id": "eb798f51-547f-48d2-af2a-0f3a6d66cf70",
   "metadata": {},
   "source": [
    "- The `getCt` helper function retrieves the full image data for a single series_uid and\n",
    "caches it _in memory_.\n",
    "    - Only a single image is cached in memory at the same time.\n",
    "- The `getCtRawCandidate` helper function retrieves the region around a single nodule\n",
    "and caches it _on disk_.\n",
    "    - the `@diskcache.memoize` decorator is equivalent to `functools.lru_cache` but \n",
    "      uses an on-disk cache object (called `raw_cache` in this case)."
   ]
  }
 ],
 "metadata": {
  "kernelspec": {
   "display_name": "Python 3 (ipykernel)",
   "language": "python",
   "name": "python3"
  },
  "language_info": {
   "codemirror_mode": {
    "name": "ipython",
    "version": 3
   },
   "file_extension": ".py",
   "mimetype": "text/x-python",
   "name": "python",
   "nbconvert_exporter": "python",
   "pygments_lexer": "ipython3",
   "version": "3.9.16"
  }
 },
 "nbformat": 4,
 "nbformat_minor": 5
}
