{
 "cells": [
  {
   "cell_type": "markdown",
   "id": "b9e3338f-77ab-4dea-ad6a-ce52bf1b9a60",
   "metadata": {
    "tags": []
   },
   "source": [
    "# Parsing and preprocessing LUNA16 Ct images"
   ]
  },
  {
   "cell_type": "code",
   "execution_count": 1,
   "id": "87b50197-d980-4dcc-aa59-e131fe0ddb49",
   "metadata": {},
   "outputs": [],
   "source": [
    "%%capture\n",
    "import sys\n",
    "!{sys.executable} -m pip install SimpleITK==2.2.1 cassandra-driver==3.27.0 diskcache==4.1.0"
   ]
  },
  {
   "cell_type": "markdown",
   "id": "f2bcd075-77ce-4182-84fa-e58bd394f2a8",
   "metadata": {},
   "source": [
    "The `p2ch10/dsets.py` helper module introduces the `Ct` class. In this notebook, I learn\n",
    "how this class is used to parse and store raw Ct image data for downstream analysis."
   ]
  },
  {
   "cell_type": "code",
   "execution_count": 35,
   "id": "531fc656-f27f-4dab-86f6-c51b3ad7558e",
   "metadata": {},
   "outputs": [],
   "source": [
    "import collections\n",
    "import glob\n",
    "import numpy as np\n",
    "import pandas as pd\n",
    "import SimpleITK as sitk\n",
    "\n",
    "from pathlib import Path"
   ]
  },
  {
   "cell_type": "markdown",
   "id": "a7829cd9-92e8-4d72-8a90-d7d599691990",
   "metadata": {},
   "source": [
    "There are 888 images available in the dataset, stored in \n",
    "[DICOM](https://dicom.nema.org/medical/dicom/current/output/chtml/part10/chapter_7.html#:~:text=The%20DICOM%20File%20Format%20provides,contains%20a%20single%20SOP%20Instance.) format that can be parsed with the \n",
    "[SimpleITK python module](https://pypi.org/project/SimpleITK/).\n",
    "\n",
    "Each scan is represented in two files:\n",
    "\n",
    "1. `.mhd` metadata file\n",
    "2. `.raw` image file"
   ]
  },
  {
   "cell_type": "code",
   "execution_count": 3,
   "id": "22c60223-535f-4954-b00d-821a73aa1f8c",
   "metadata": {},
   "outputs": [
    {
     "data": {
      "text/plain": [
       "888"
      ]
     },
     "execution_count": 3,
     "metadata": {},
     "output_type": "execute_result"
    }
   ],
   "source": [
    "data_dir = Path(\"/datasets/luna16\")\n",
    "mhd_paths = list(data_dir.glob('subset*/*.mhd'))\n",
    "len(mhd_paths)"
   ]
  },
  {
   "cell_type": "markdown",
   "id": "4111c4e3-e713-482c-a8bc-55b20c7fb110",
   "metadata": {},
   "source": [
    "Let's parse and inspect the first scan:"
   ]
  },
  {
   "cell_type": "code",
   "execution_count": 4,
   "id": "2ef72349-2dfb-4611-bb16-519dd1b294d8",
   "metadata": {},
   "outputs": [],
   "source": [
    "ct_mhd = sitk.ReadImage(mhd_paths[0])\n",
    "ct_a = np.array(sitk.GetArrayFromImage(ct_mhd), dtype=np.float32)"
   ]
  },
  {
   "cell_type": "code",
   "execution_count": 5,
   "id": "bc4c740b-78a4-4c5a-8f64-bea9f5c4a558",
   "metadata": {},
   "outputs": [
    {
     "data": {
      "text/plain": [
       "(121, 512, 512)"
      ]
     },
     "execution_count": 5,
     "metadata": {},
     "output_type": "execute_result"
    }
   ],
   "source": [
    "ct_a.shape  # numpy array with shape 121 x 512 x 512"
   ]
  },
  {
   "cell_type": "markdown",
   "id": "997831c5-4b02-4c3e-b1aa-1c1f34afb69a",
   "metadata": {},
   "source": [
    "We can read each image and convert it into a numpy array with the follwowing three spatial dimensions:\n",
    "    \n",
    "- `I`: index of the scan => corresponds to the Z-axis in patient coordinates\n",
    "- `R`: row => corresponds to the Y-axis in patient coordinates\n",
    "- `C`: column => corresponds ton the X-axis in patient coordinates\n",
    "\n",
    "(The mapping of IRC to ZYX will be important below.)\n",
    "    "
   ]
  },
  {
   "cell_type": "markdown",
   "id": "9aa34aa8-879f-42a9-afd8-958bb2b57a78",
   "metadata": {},
   "source": [
    "### Clipping\n",
    "\n",
    "The intensities reported by the Ct scanner are in [Houdsfield units (HU)](https://radiopaedia.org/articles/hounsfield-unit?lang=us#:~:text=Hounsfield%20units%20(HU)%20are%20a,the%20measured%20attenuation%20coefficients%201.) that roughly track with the type of tissue in the image. \n",
    "\n",
    "The values across the dataset range from -3,000 to +2,000 HU."
   ]
  },
  {
   "cell_type": "code",
   "execution_count": 6,
   "id": "c5809ba2-1144-4dc9-8140-a59e2d0b6704",
   "metadata": {},
   "outputs": [
    {
     "name": "stdout",
     "output_type": "stream",
     "text": [
      "mean = -1035.62, min = -3024.0, max = 2103.0\n"
     ]
    }
   ],
   "source": [
    "print(f\"mean = {round(float(ct_a.mean()), 2)}, \"\n",
    "      f\"min = {ct_a.min()}, \"\n",
    "      f\"max = {ct_a.max()}\")"
   ]
  },
  {
   "cell_type": "markdown",
   "id": "088c0e0f-5755-4071-8e26-186efa37f4f0",
   "metadata": {},
   "source": [
    "In this project, we only care about nodules in the lung (HU ~ 1), not in bone (HU > 1,000) or outside soft tissues (HU < -1000). We therefore clip values outside the range of interest to limit the impact of outliers.\n",
    "\n",
    "Numpy's [clip method](https://numpy.org/doc/stable/reference/generated/numpy.clip.html) accepts a range and sets values exceeding the provided limits to the min / max of the range."
   ]
  },
  {
   "cell_type": "code",
   "execution_count": 7,
   "id": "33370df6-10bc-4fd1-ba4d-955079cb4e88",
   "metadata": {},
   "outputs": [
    {
     "name": "stdout",
     "output_type": "stream",
     "text": [
      "mean = -603.19, min = -1000.0, max = 1000.0\n"
     ]
    }
   ],
   "source": [
    "ct_a = ct_a.clip(-1000, 1000)\n",
    "print(f\"mean = {round(float(ct_a.mean()), 2)}, \"\n",
    "      f\"min = {ct_a.min()}, \"\n",
    "      f\"max = {ct_a.max()}\")"
   ]
  },
  {
   "cell_type": "markdown",
   "id": "df1323d6-5d6d-4fff-a842-17b8e036c3c5",
   "metadata": {},
   "source": [
    "## Converting patient- to voxel-coordinates\n",
    "\n",
    "The metadata provided in the `candidates.csv` and `annotations.csv` files includes the position of each nodule in millimeters, e.g. in _patient coordinates_ (X,Y,Z). But the image files use voxel coordinates instead (I,R,C). \n",
    "\n",
    "- `X`: right -> left\n",
    "- `Y`: anterior (front) -> posterior (back)\n",
    "- `Z`: inferior (feet) -> superior (head)\n",
    "\n",
    "Luckily, the metadata included in the DICOM files for each scan provides the\n",
    "information required to translate between the two coordinate systems.\n",
    "\n",
    "The SimpleITK module provides \n",
    "[functionality to read and convert the coordinates](https://simpleitk.readthedocs.io/en/master/fundamentalConcepts.html).\n",
    "from the `.mhd` file for each scan:\n",
    "\n",
    "The origin of the patient coordinate system is available via the `.GetOrigin()` method:"
   ]
  },
  {
   "cell_type": "code",
   "execution_count": 19,
   "id": "8a99a3b2-ef56-45d4-bc58-872e30e4c132",
   "metadata": {},
   "outputs": [
    {
     "data": {
      "text/plain": [
       "(-198.100006, -195.0, -335.209991)"
      ]
     },
     "execution_count": 19,
     "metadata": {},
     "output_type": "execute_result"
    }
   ],
   "source": [
    "origin_xyz = ct_mhd.GetOrigin()\n",
    "origin_xyz"
   ]
  },
  {
   "cell_type": "markdown",
   "id": "06efd353-341f-4593-85a3-3f6066ae0e02",
   "metadata": {},
   "source": [
    "The size of the voxel can be retrieved with `.GetSpacing()`:"
   ]
  },
  {
   "cell_type": "code",
   "execution_count": 20,
   "id": "14c92831-3715-4a3a-a005-57961bd92d8b",
   "metadata": {},
   "outputs": [
    {
     "data": {
      "text/plain": [
       "[0.76, 0.76, 2.5]"
      ]
     },
     "execution_count": 20,
     "metadata": {},
     "output_type": "execute_result"
    }
   ],
   "source": [
    "# voxel size in mm\n",
    "vxSize_xyz = ct_mhd.GetSpacing()\n",
    "[round(x, 2) for x in vxSize_xyz]"
   ]
  },
  {
   "cell_type": "markdown",
   "id": "a19bc3d7-d5c1-484f-b348-edb4fb084eab",
   "metadata": {},
   "source": [
    "It turns out that voxels are _not_ cubes, e.g. the Z-dimension is longer than the \n",
    "X and Y dimensions!\n",
    "\n",
    "The metadata file also includes instructions to rotate or otherwise transform the\n",
    "I,R,C coordinates to X,Y,Z coordinates, in the form of a 3x3 matrix available with the\n",
    "`GetDirection()` method. (In this case, we get a diagonal (identity) matrix, e.g. no rotations or other transformations are necessary.)"
   ]
  },
  {
   "cell_type": "code",
   "execution_count": 29,
   "id": "35aa9f4f-3d33-48a7-9860-7e7ef4369aae",
   "metadata": {},
   "outputs": [
    {
     "data": {
      "text/plain": [
       "array([[0., 0., 1.],\n",
       "       [0., 1., 0.],\n",
       "       [1., 0., 0.]])"
      ]
     },
     "execution_count": 29,
     "metadata": {},
     "output_type": "execute_result"
    }
   ],
   "source": [
    "direction_a = np.array(ct_mhd.GetDirection()).reshape(3, 3)\n",
    "direction_a"
   ]
  },
  {
   "cell_type": "markdown",
   "id": "1619043c-14cd-41ea-81a5-729c8f80f3b6",
   "metadata": {},
   "source": [
    "To move from I,R,C to X,Y,Z, we need to execute the following operations:\n",
    "\n",
    "1. Flip the coordinates from IRC to CRI, to align with XYZ .\n",
    "2. Scale the indices with the voxel sizes.\n",
    "3. Matrix-multiply with the directions matrix, using @ in Python.\n",
    "4. Add the offset for the origin."
   ]
  },
  {
   "cell_type": "markdown",
   "id": "d8e733c0-56a3-4681-8222-f7a2e2a3f069",
   "metadata": {},
   "source": [
    "As a first step, need to reorder the dimensions from I-R-C to C-R-I, \n",
    "to match the dimensions of the X-Y-Z coordinate system."
   ]
  },
  {
   "cell_type": "code",
   "execution_count": null,
   "id": "8be84ff4-ec38-44c9-a2ca-19b409f9036a",
   "metadata": {},
   "outputs": [],
   "source": [
    "# example illustrating the effect of [::-1] slicing\n",
    "np.array(range(9)).reshape(3,3)[::-1]"
   ]
  },
  {
   "cell_type": "markdown",
   "id": "66e6fc5e-fd7d-457e-921f-904b0a480981",
   "metadata": {},
   "source": [
    "The following two helper functions in `utils/util.py` convert\n",
    "between the two coordinate systems:"
   ]
  },
  {
   "cell_type": "code",
   "execution_count": 18,
   "id": "67eca451-2397-462f-99de-b46f22874605",
   "metadata": {},
   "outputs": [],
   "source": [
    "def irc2xyz(coord_irc, origin_xyz, vxSize_xyz, direction_a):\n",
    "    cri_a = np.array(coord_irc)[::-1]  # swap dims\n",
    "    origin_a = np.array(origin_xyz)  # convert to numpy array\n",
    "    vxSize_a = np.array(vxSize_xyz)  # convert to numpy array\n",
    "    coords_xyz = (direction_a @ (cri_a * vxSize_a)) + origin_a\n",
    "    return XyzTuple(*coords_xyz)\n",
    "\n",
    "def xyz2irc(coord_xyz, origin_xyz, vxSize_xyz, direction_a):\n",
    "    origin_a = np.array(origin_xyz)\n",
    "    vxSize_a = np.array(vxSize_xyz)\n",
    "    coord_a = np.array(coord_xyz)\n",
    "    cri_a = ((coord_a - origin_a) @ np.linalg.inv(direction_a)) / vxSize_a\n",
    "    cri_a = np.round(cri_a)\n",
    "    return IrcTuple(int(cri_a[2]), int(cri_a[1]), int(cri_a[0]))\n"
   ]
  },
  {
   "cell_type": "markdown",
   "id": "db6baa04-e274-4658-8727-49b36fd2c941",
   "metadata": {},
   "source": [
    "## The Ct class\n",
    "\n",
    "The `Ct` class is the main container for the images. It is initalized with a\n",
    "`series_uid` and loads the corresponding images from disk. It is implemented in the `p2ch10/dsets.py` module.\n",
    "\n",
    "It's `getRawCandidate()` method returns a cropped section with a user-specified `width_irc` from the (large) Ct image, centered on a candidate nodule (`center_xyz`)."
   ]
  },
  {
   "cell_type": "code",
   "execution_count": 42,
   "id": "f6e8cebc-9065-47b0-819f-95de2a324840",
   "metadata": {},
   "outputs": [],
   "source": [
    "IrcTuple = collections.namedtuple('IrcTuple', ['index', 'row', 'col'])\n",
    "XyzTuple = collections.namedtuple('XyzTuple', ['x', 'y', 'z'])\n",
    "\n",
    "class Ct:\n",
    "    def __init__(self, series_uid):\n",
    "        mhd_path = glob.glob(\n",
    "            '/datasets/luna16/subset*/{}.mhd'.format(series_uid)\n",
    "        )[0]\n",
    "\n",
    "        ct_mhd = sitk.ReadImage(mhd_path)\n",
    "        ct_a = np.array(sitk.GetArrayFromImage(ct_mhd), dtype=np.float32)\n",
    "        ct_a.clip(-1000, 1000, ct_a)\n",
    "\n",
    "        self.series_uid = series_uid\n",
    "        self.hu_a = ct_a\n",
    "\n",
    "        self.origin_xyz = XyzTuple(*ct_mhd.GetOrigin())\n",
    "        self.vxSize_xyz = XyzTuple(*ct_mhd.GetSpacing())\n",
    "        self.direction_a = np.array(ct_mhd.GetDirection()).reshape(3, 3)\n",
    "\n",
    "    def getRawCandidate(self, center_xyz, width_irc):\n",
    "        center_irc = xyz2irc(\n",
    "            center_xyz,\n",
    "            self.origin_xyz,\n",
    "            self.vxSize_xyz,\n",
    "            self.direction_a,\n",
    "        )\n",
    "\n",
    "        slice_list = []\n",
    "        for axis, center_val in enumerate(center_irc):\n",
    "            # define start and of the region for the current axis\n",
    "            start_ndx = int(round(center_val - width_irc[axis]/2))\n",
    "            end_ndx = int(start_ndx + width_irc[axis])\n",
    "\n",
    "            assert center_val >= 0 and center_val < self.hu_a.shape[axis], \\\n",
    "              repr([self.series_uid, center_xyz, self.origin_xyz, self.vxSize_xyz, center_irc, axis])\n",
    "\n",
    "            if start_ndx < 0:\n",
    "                # log.warning(\"Crop outside of CT array: {} {}, center:{} shape:{} width:{}\".format(\n",
    "                #     self.series_uid, center_xyz, center_irc, self.hu_a.shape, width_irc))\n",
    "                start_ndx = 0\n",
    "                end_ndx = int(width_irc[axis])\n",
    "\n",
    "            if end_ndx > self.hu_a.shape[axis]:\n",
    "                # log.warning(\"Crop outside of CT array: {} {}, center:{} shape:{} width:{}\".format(\n",
    "                #     self.series_uid, center_xyz, center_irc, self.hu_a.shape, width_irc))\n",
    "                end_ndx = self.hu_a.shape[axis]\n",
    "                start_ndx = int(self.hu_a.shape[axis] - width_irc[axis])\n",
    "\n",
    "            slice_list.append(slice(start_ndx, end_ndx))\n",
    "\n",
    "        ct_chunk = self.hu_a[tuple(slice_list)]\n",
    "\n",
    "        return ct_chunk, center_irc\n"
   ]
  },
  {
   "cell_type": "code",
   "execution_count": 43,
   "id": "bc4171c5-7e6e-467b-b206-9cd3bfc158a2",
   "metadata": {},
   "outputs": [],
   "source": [
    "uid = mhd_paths[0].stem\n",
    "ct = Ct(uid)"
   ]
  }
 ],
 "metadata": {
  "kernelspec": {
   "display_name": "Python 3 (ipykernel)",
   "language": "python",
   "name": "python3"
  },
  "language_info": {
   "codemirror_mode": {
    "name": "ipython",
    "version": 3
   },
   "file_extension": ".py",
   "mimetype": "text/x-python",
   "name": "python",
   "nbconvert_exporter": "python",
   "pygments_lexer": "ipython3",
   "version": "3.9.16"
  }
 },
 "nbformat": 4,
 "nbformat_minor": 5
}
