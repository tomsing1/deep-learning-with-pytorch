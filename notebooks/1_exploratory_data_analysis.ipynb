{
 "cells": [
  {
   "cell_type": "code",
   "execution_count": 52,
   "id": "7940e6f5-5603-4a0a-8f63-5245dd4e4528",
   "metadata": {},
   "outputs": [],
   "source": [
    "import numpy as np\n",
    "import pandas as pd\n",
    "from collections import namedtuple, defaultdict\n",
    "from glob import glob\n",
    "from pathlib import Path, PurePath\n",
    "from typing import NamedTuple, Tuple"
   ]
  },
  {
   "cell_type": "code",
   "execution_count": 2,
   "id": "38e22cb3-e483-4e05-850b-cddd30f199bf",
   "metadata": {},
   "outputs": [],
   "source": [
    "data_dir = Path(\"/datasets/luna16\")"
   ]
  },
  {
   "cell_type": "markdown",
   "id": "cd212509-d53a-4be8-82bf-1aaa55940759",
   "metadata": {},
   "source": [
    "### Image files"
   ]
  },
  {
   "cell_type": "markdown",
   "id": "ab4ae57e-4fd0-4659-88d2-5094e16d18d4",
   "metadata": {},
   "source": [
    "The LUNA16 dataset is split into 9 different subsets. Initially, I only downloaded\n",
    "a subset of them. To make sure downstream code doesn't break because the annotation\n",
    "files reference images from unavailable sets, let's make alist of the files\n",
    "that are currently available in the `data_dir` location:"
   ]
  },
  {
   "cell_type": "code",
   "execution_count": 78,
   "id": "2c86f61d-5abc-4af4-bb59-1a226ab5e0d5",
   "metadata": {},
   "outputs": [],
   "source": [
    "mhd_files = list(data_dir.glob('subset*/*.mhd'))\n",
    "presentOnDisk_set = [x.stem for x in mhd_files]"
   ]
  },
  {
   "cell_type": "markdown",
   "id": "02dc7e3b-a4f0-4f95-9398-e231bd98a9c5",
   "metadata": {},
   "source": [
    "### Annotation files"
   ]
  },
  {
   "cell_type": "markdown",
   "id": "c25b53ee-ed2a-4d5a-98f8-6fecf8cf1f7a",
   "metadata": {},
   "source": [
    "The LUNA16 dataset contains two CSV files with annotations:\n",
    "\n",
    "1. `candidates.csv`\n",
    "2. `annotations.csv`\n",
    "\n",
    "Here, we explore these two files to understand what they contain."
   ]
  },
  {
   "cell_type": "code",
   "execution_count": 3,
   "id": "e242c979-75d6-42d2-b8e6-a2ec1c74eb3c",
   "metadata": {},
   "outputs": [],
   "source": [
    "candidates = pd.read_csv(data_dir / \"candidates.csv\")\n",
    "annotations = pd.read_csv(data_dir / \"annotations.csv\")"
   ]
  },
  {
   "cell_type": "code",
   "execution_count": 4,
   "id": "b59ebe7b-3f96-4e07-970f-7331d17bc224",
   "metadata": {},
   "outputs": [
    {
     "data": {
      "text/plain": [
       "(551065, 5)"
      ]
     },
     "execution_count": 4,
     "metadata": {},
     "output_type": "execute_result"
    }
   ],
   "source": [
    "candidates.shape"
   ]
  },
  {
   "cell_type": "markdown",
   "id": "2ca80db7-1fc6-45a3-b0d7-756e5489a6c7",
   "metadata": {},
   "source": [
    "The `candidates.csv` file contains information about ~ half a million potential nodules,\n",
    "including \n",
    "\n",
    "- `seriesuid`: the unique identifier of the scan\n",
    "- `coordX`, `coordY`, `coordZ`: the coordinates of the nodule _center_ in __patient coordinates__, measured in millimeters relative to an arbitrary origin.\n",
    "- `class`: the nodule status, 0 if it is not a nodule, 1 for a nodule that can either be malignent of benign.\n",
    "\n"
   ]
  },
  {
   "cell_type": "code",
   "execution_count": 5,
   "id": "00fb9bb0-fe74-4296-be4e-2e4bed7b7c4d",
   "metadata": {},
   "outputs": [
    {
     "data": {
      "text/html": [
       "<div>\n",
       "<style scoped>\n",
       "    .dataframe tbody tr th:only-of-type {\n",
       "        vertical-align: middle;\n",
       "    }\n",
       "\n",
       "    .dataframe tbody tr th {\n",
       "        vertical-align: top;\n",
       "    }\n",
       "\n",
       "    .dataframe thead th {\n",
       "        text-align: right;\n",
       "    }\n",
       "</style>\n",
       "<table border=\"1\" class=\"dataframe\">\n",
       "  <thead>\n",
       "    <tr style=\"text-align: right;\">\n",
       "      <th></th>\n",
       "      <th>seriesuid</th>\n",
       "      <th>coordX</th>\n",
       "      <th>coordY</th>\n",
       "      <th>coordZ</th>\n",
       "      <th>class</th>\n",
       "    </tr>\n",
       "  </thead>\n",
       "  <tbody>\n",
       "    <tr>\n",
       "      <th>0</th>\n",
       "      <td>1.3.6.1.4.1.14519.5.2.1.6279.6001.100225287222...</td>\n",
       "      <td>-56.08</td>\n",
       "      <td>-67.85</td>\n",
       "      <td>-311.92</td>\n",
       "      <td>0</td>\n",
       "    </tr>\n",
       "    <tr>\n",
       "      <th>1</th>\n",
       "      <td>1.3.6.1.4.1.14519.5.2.1.6279.6001.100225287222...</td>\n",
       "      <td>53.21</td>\n",
       "      <td>-244.41</td>\n",
       "      <td>-245.17</td>\n",
       "      <td>0</td>\n",
       "    </tr>\n",
       "    <tr>\n",
       "      <th>2</th>\n",
       "      <td>1.3.6.1.4.1.14519.5.2.1.6279.6001.100225287222...</td>\n",
       "      <td>103.66</td>\n",
       "      <td>-121.80</td>\n",
       "      <td>-286.62</td>\n",
       "      <td>0</td>\n",
       "    </tr>\n",
       "    <tr>\n",
       "      <th>3</th>\n",
       "      <td>1.3.6.1.4.1.14519.5.2.1.6279.6001.100225287222...</td>\n",
       "      <td>-33.66</td>\n",
       "      <td>-72.75</td>\n",
       "      <td>-308.41</td>\n",
       "      <td>0</td>\n",
       "    </tr>\n",
       "    <tr>\n",
       "      <th>4</th>\n",
       "      <td>1.3.6.1.4.1.14519.5.2.1.6279.6001.100225287222...</td>\n",
       "      <td>-32.25</td>\n",
       "      <td>-85.36</td>\n",
       "      <td>-362.51</td>\n",
       "      <td>0</td>\n",
       "    </tr>\n",
       "  </tbody>\n",
       "</table>\n",
       "</div>"
      ],
      "text/plain": [
       "                                           seriesuid  coordX  coordY  coordZ  \\\n",
       "0  1.3.6.1.4.1.14519.5.2.1.6279.6001.100225287222...  -56.08  -67.85 -311.92   \n",
       "1  1.3.6.1.4.1.14519.5.2.1.6279.6001.100225287222...   53.21 -244.41 -245.17   \n",
       "2  1.3.6.1.4.1.14519.5.2.1.6279.6001.100225287222...  103.66 -121.80 -286.62   \n",
       "3  1.3.6.1.4.1.14519.5.2.1.6279.6001.100225287222...  -33.66  -72.75 -308.41   \n",
       "4  1.3.6.1.4.1.14519.5.2.1.6279.6001.100225287222...  -32.25  -85.36 -362.51   \n",
       "\n",
       "   class  \n",
       "0      0  \n",
       "1      0  \n",
       "2      0  \n",
       "3      0  \n",
       "4      0  "
      ]
     },
     "execution_count": 5,
     "metadata": {},
     "output_type": "execute_result"
    }
   ],
   "source": [
    "candidates.head()"
   ]
  },
  {
   "cell_type": "markdown",
   "id": "25760955-f148-49b2-a9b4-36ca21580465",
   "metadata": {},
   "source": [
    "Each of the 888 Ct scan is identified by its `seriesuid`, and contains between 32 and > 1400 different candidate nodules:"
   ]
  },
  {
   "cell_type": "code",
   "execution_count": 6,
   "id": "1486327b-802e-4790-99f2-bcd5af29ee87",
   "metadata": {},
   "outputs": [
    {
     "data": {
      "text/plain": [
       "count     888.000000\n",
       "mean      620.568694\n",
       "std       229.923643\n",
       "min        32.000000\n",
       "25%       453.000000\n",
       "50%       582.500000\n",
       "75%       769.250000\n",
       "max      1468.000000\n",
       "Name: seriesuid, dtype: float64"
      ]
     },
     "execution_count": 6,
     "metadata": {},
     "output_type": "execute_result"
    }
   ],
   "source": [
    "(candidates\n",
    " .groupby('seriesuid')['seriesuid']\n",
    " .count()\n",
    " .describe()\n",
    ")"
   ]
  },
  {
   "cell_type": "markdown",
   "id": "6205b664-342a-4ead-b8a1-1fecea7c4ddb",
   "metadata": {
    "tags": []
   },
   "source": [
    "The `annotations.csv` file contains information for those candidates that were flagged as nodules.\n",
    "It contains \n",
    "\n",
    "- `seriesuid`: the unique identifier of the scan\n",
    "- `coordX`, `coordY`, `coordZ`: the coordinates of the nodule _center_ in __patient coordinates__.\n",
    "- `diameter_mm`: the diameter of the nodule, in millimeters\n",
    "\n",
    "Interestingly, the coordinates were recorded with higher precision, e.g. more decimal places, than\n",
    "in the `candidates.csv` file. (Perhaps because these nodules were considered more interesting?\n",
    "Who knows..)"
   ]
  },
  {
   "cell_type": "code",
   "execution_count": 8,
   "id": "7aa4960f-2704-40d6-ac36-4bfd91210ea0",
   "metadata": {},
   "outputs": [
    {
     "data": {
      "text/html": [
       "<div>\n",
       "<style scoped>\n",
       "    .dataframe tbody tr th:only-of-type {\n",
       "        vertical-align: middle;\n",
       "    }\n",
       "\n",
       "    .dataframe tbody tr th {\n",
       "        vertical-align: top;\n",
       "    }\n",
       "\n",
       "    .dataframe thead th {\n",
       "        text-align: right;\n",
       "    }\n",
       "</style>\n",
       "<table border=\"1\" class=\"dataframe\">\n",
       "  <thead>\n",
       "    <tr style=\"text-align: right;\">\n",
       "      <th></th>\n",
       "      <th>seriesuid</th>\n",
       "      <th>coordX</th>\n",
       "      <th>coordY</th>\n",
       "      <th>coordZ</th>\n",
       "      <th>diameter_mm</th>\n",
       "    </tr>\n",
       "  </thead>\n",
       "  <tbody>\n",
       "    <tr>\n",
       "      <th>0</th>\n",
       "      <td>1.3.6.1.4.1.14519.5.2.1.6279.6001.100225287222...</td>\n",
       "      <td>-128.699421</td>\n",
       "      <td>-175.319272</td>\n",
       "      <td>-298.387506</td>\n",
       "      <td>5.651471</td>\n",
       "    </tr>\n",
       "    <tr>\n",
       "      <th>1</th>\n",
       "      <td>1.3.6.1.4.1.14519.5.2.1.6279.6001.100225287222...</td>\n",
       "      <td>103.783651</td>\n",
       "      <td>-211.925149</td>\n",
       "      <td>-227.121250</td>\n",
       "      <td>4.224708</td>\n",
       "    </tr>\n",
       "    <tr>\n",
       "      <th>2</th>\n",
       "      <td>1.3.6.1.4.1.14519.5.2.1.6279.6001.100398138793...</td>\n",
       "      <td>69.639017</td>\n",
       "      <td>-140.944586</td>\n",
       "      <td>876.374496</td>\n",
       "      <td>5.786348</td>\n",
       "    </tr>\n",
       "    <tr>\n",
       "      <th>3</th>\n",
       "      <td>1.3.6.1.4.1.14519.5.2.1.6279.6001.100621383016...</td>\n",
       "      <td>-24.013824</td>\n",
       "      <td>192.102405</td>\n",
       "      <td>-391.081276</td>\n",
       "      <td>8.143262</td>\n",
       "    </tr>\n",
       "    <tr>\n",
       "      <th>4</th>\n",
       "      <td>1.3.6.1.4.1.14519.5.2.1.6279.6001.100621383016...</td>\n",
       "      <td>2.441547</td>\n",
       "      <td>172.464881</td>\n",
       "      <td>-405.493732</td>\n",
       "      <td>18.545150</td>\n",
       "    </tr>\n",
       "  </tbody>\n",
       "</table>\n",
       "</div>"
      ],
      "text/plain": [
       "                                           seriesuid      coordX      coordY  \\\n",
       "0  1.3.6.1.4.1.14519.5.2.1.6279.6001.100225287222... -128.699421 -175.319272   \n",
       "1  1.3.6.1.4.1.14519.5.2.1.6279.6001.100225287222...  103.783651 -211.925149   \n",
       "2  1.3.6.1.4.1.14519.5.2.1.6279.6001.100398138793...   69.639017 -140.944586   \n",
       "3  1.3.6.1.4.1.14519.5.2.1.6279.6001.100621383016...  -24.013824  192.102405   \n",
       "4  1.3.6.1.4.1.14519.5.2.1.6279.6001.100621383016...    2.441547  172.464881   \n",
       "\n",
       "       coordZ  diameter_mm  \n",
       "0 -298.387506     5.651471  \n",
       "1 -227.121250     4.224708  \n",
       "2  876.374496     5.786348  \n",
       "3 -391.081276     8.143262  \n",
       "4 -405.493732    18.545150  "
      ]
     },
     "execution_count": 8,
     "metadata": {},
     "output_type": "execute_result"
    }
   ],
   "source": [
    "annotations.head()"
   ]
  },
  {
   "cell_type": "markdown",
   "id": "e004106b-de2e-4dde-b8e2-7ebb9bd96d66",
   "metadata": {},
   "source": [
    "Only 1186 of the roughly half a million candidate nodules are annotated:"
   ]
  },
  {
   "cell_type": "code",
   "execution_count": 7,
   "id": "ba7dc00c-ac9a-4ef9-9212-e684b601c2f0",
   "metadata": {},
   "outputs": [
    {
     "data": {
      "text/plain": [
       "(1186, 5)"
      ]
     },
     "execution_count": 7,
     "metadata": {},
     "output_type": "execute_result"
    }
   ],
   "source": [
    "annotations.shape"
   ]
  },
  {
   "cell_type": "markdown",
   "id": "13e1177f-7059-4a86-ae4d-1aaa168f4bdf",
   "metadata": {},
   "source": [
    "As for the `candidates.csv file`, there can be multiple nodules annotated in the same\n",
    "scan - albeit the range is much smaller: 1 - 12 nodules were reported in 601 scans."
   ]
  },
  {
   "cell_type": "code",
   "execution_count": 9,
   "id": "6a389d15-55ed-4f9a-a759-8742cf45ef53",
   "metadata": {},
   "outputs": [
    {
     "data": {
      "text/plain": [
       "count    601.000000\n",
       "mean       1.973378\n",
       "std        1.483000\n",
       "min        1.000000\n",
       "25%        1.000000\n",
       "50%        1.000000\n",
       "75%        2.000000\n",
       "max       12.000000\n",
       "Name: seriesuid, dtype: float64"
      ]
     },
     "execution_count": 9,
     "metadata": {},
     "output_type": "execute_result"
    }
   ],
   "source": [
    "(annotations\n",
    " .groupby('seriesuid')['seriesuid']\n",
    " .count()\n",
    " .describe()\n",
    ")"
   ]
  },
  {
   "cell_type": "markdown",
   "id": "8f599bf4-b919-4c5d-a1da-e5f7bc4c6734",
   "metadata": {},
   "source": [
    "To complete the diagnostic pipeline, we need to perform multiple tasks, including building a classifier\n",
    "that returns the status of a previously identified candidate nodule as either _benign_ or _malignant_.\n",
    "\n",
    "This decision will be made on a nodule-by-nodule basis, and only requires local information (e.g. voxels\n",
    "in the vicinity of the nodule center) as input.\n",
    "\n",
    "First, we will combine information from the two CSV files to generate a list of candidate nodules, each\n",
    "annotated with the following elements."
   ]
  },
  {
   "cell_type": "markdown",
   "id": "217a241b-8bf5-478e-baa3-4b4fe88d5a30",
   "metadata": {},
   "source": [
    "The smallest nodule has a diameter of 3.5 mm, the largest measures 27 mm across."
   ]
  },
  {
   "cell_type": "code",
   "execution_count": 10,
   "id": "c5d09333-4718-4ab4-b3fd-3ea3dace5990",
   "metadata": {},
   "outputs": [
    {
     "data": {
      "text/html": [
       "<div>\n",
       "<style scoped>\n",
       "    .dataframe tbody tr th:only-of-type {\n",
       "        vertical-align: middle;\n",
       "    }\n",
       "\n",
       "    .dataframe tbody tr th {\n",
       "        vertical-align: top;\n",
       "    }\n",
       "\n",
       "    .dataframe thead th {\n",
       "        text-align: right;\n",
       "    }\n",
       "</style>\n",
       "<table border=\"1\" class=\"dataframe\">\n",
       "  <thead>\n",
       "    <tr style=\"text-align: right;\">\n",
       "      <th></th>\n",
       "      <th>diameter_mm</th>\n",
       "    </tr>\n",
       "  </thead>\n",
       "  <tbody>\n",
       "    <tr>\n",
       "      <th>count</th>\n",
       "      <td>601.000000</td>\n",
       "    </tr>\n",
       "    <tr>\n",
       "      <th>mean</th>\n",
       "      <td>8.781195</td>\n",
       "    </tr>\n",
       "    <tr>\n",
       "      <th>std</th>\n",
       "      <td>4.699269</td>\n",
       "    </tr>\n",
       "    <tr>\n",
       "      <th>min</th>\n",
       "      <td>3.530974</td>\n",
       "    </tr>\n",
       "    <tr>\n",
       "      <th>25%</th>\n",
       "      <td>5.562750</td>\n",
       "    </tr>\n",
       "    <tr>\n",
       "      <th>50%</th>\n",
       "      <td>6.966073</td>\n",
       "    </tr>\n",
       "    <tr>\n",
       "      <th>75%</th>\n",
       "      <td>10.496969</td>\n",
       "    </tr>\n",
       "    <tr>\n",
       "      <th>max</th>\n",
       "      <td>27.442423</td>\n",
       "    </tr>\n",
       "  </tbody>\n",
       "</table>\n",
       "</div>"
      ],
      "text/plain": [
       "       diameter_mm\n",
       "count   601.000000\n",
       "mean      8.781195\n",
       "std       4.699269\n",
       "min       3.530974\n",
       "25%       5.562750\n",
       "50%       6.966073\n",
       "75%      10.496969\n",
       "max      27.442423"
      ]
     },
     "execution_count": 10,
     "metadata": {},
     "output_type": "execute_result"
    }
   ],
   "source": [
    "(annotations\n",
    " .groupby('seriesuid')\n",
    " .agg({'diameter_mm':  np.mean})\n",
    " .describe()\n",
    ")"
   ]
  },
  {
   "cell_type": "markdown",
   "id": "deb7ac95-0113-44d7-9d59-8fa418dc4ada",
   "metadata": {},
   "source": [
    "Based on this information, the authors decide to \n",
    "\n",
    "1. Calculate the radius of each nodule.\n",
    "2. Decide that nodule with centers within a Euclidean distance of < 1/2 of the radius are the same.\n",
    "   \n",
    "`min_diameter = diameter_mm / 2 / 2`"
   ]
  },
  {
   "cell_type": "markdown",
   "id": "b960e2ed-263c-41fc-b2f3-962e0da81735",
   "metadata": {},
   "source": [
    "Because only a small subset of the candidate nodules are annotated with the `diameter_mm`\n",
    "information, we also have to decide what to do with this missing information for the rest of them.\n",
    "Here, we simply record a size of 0 mm for each candidate. (After all, if a candidate is _not_ a\n",
    "nodule, it doesn't really _have_ a size.)"
   ]
  },
  {
   "cell_type": "markdown",
   "id": "1cc9fcf9-d450-4faa-bd1e-deed21ef5b3e",
   "metadata": {},
   "source": [
    "First, let's check that all annotated nodules are also included in the `candidates.csv` file:"
   ]
  },
  {
   "cell_type": "code",
   "execution_count": 11,
   "id": "3838e39e-4b8e-429d-8fdf-c5ebe341e57f",
   "metadata": {},
   "outputs": [
    {
     "data": {
      "text/plain": [
       "True"
      ]
     },
     "execution_count": 11,
     "metadata": {},
     "output_type": "execute_result"
    }
   ],
   "source": [
    "all_candidate_series = candidates.seriesuid.unique()\n",
    "sum([x not in all_candidate_series for x in annotations.seriesuid]) == 0"
   ]
  },
  {
   "cell_type": "markdown",
   "id": "b7a371f2-5f7b-4e9b-a6bb-9b5a52abac24",
   "metadata": {},
   "source": [
    "To combine information from the two files, we\n",
    "\n",
    "1. Read information about all _annotated_ nodules into a dictionary keyed by `seriesuid`.\n",
    "2. Record the information for each _candidate_ nodule and\n",
    "  - Set the initial `diameter_mm` to zero\n",
    "  - Look up all annotated nodules from the same `seriesuid`\n",
    "  - Loop over all annotated nodules for that `seriesuid`\n",
    "  - Calculate their Euclidean distance and match those within radius / 4 mm\n",
    "  - Use the `diameter_mm` information for a match\n",
    " 3. Return a NamedTuple for each _candidate nodule_ containing\n",
    "  - `series_uid`: the unique identifier of the Ct scan\n",
    "  - `center_xyz`: the position of the nodule (in mm)  \n",
    "  - `isNodule_bool`: a boolean value indication whether candidate is a nodule or not\n",
    "  - `diameter_mm`: the diameter of the nodule (or zero if no match was found)"
   ]
  },
  {
   "cell_type": "code",
   "execution_count": 12,
   "id": "c7715fec-c3a0-4c9d-91b3-583be883f7fc",
   "metadata": {},
   "outputs": [],
   "source": [
    "class AnnotationInfoTuple(NamedTuple):\n",
    "  center_xyz: Tuple[float, float, float]\n",
    "  diameter_mm: float = 0\n",
    "\n",
    "annotated_nodules = defaultdict(list)\n",
    "for x in annotations.itertuples():\n",
    "    annotated_nodules[x.seriesuid].append(\n",
    "        AnnotationInfoTuple(\n",
    "            (float(x.coordX), float(x.coordY), float(x.coordZ)),\n",
    "            x.diameter_mm )\n",
    "    )"
   ]
  },
  {
   "cell_type": "code",
   "execution_count": 13,
   "id": "24429f36-38dc-4221-8b56-30dd68f7390c",
   "metadata": {},
   "outputs": [
    {
     "data": {
      "text/plain": [
       "[('1.3.6.1.4.1.14519.5.2.1.6279.6001.100225287222365663678666836860',\n",
       "  [AnnotationInfoTuple(center_xyz=(-128.6994211, -175.3192718, -298.3875064), diameter_mm=5.651470635),\n",
       "   AnnotationInfoTuple(center_xyz=(103.7836509, -211.9251487, -227.12125), diameter_mm=4.224708481)]),\n",
       " ('1.3.6.1.4.1.14519.5.2.1.6279.6001.100398138793540579077826395208',\n",
       "  [AnnotationInfoTuple(center_xyz=(69.63901724, -140.9445859, 876.3744957), diameter_mm=5.786347814)])]"
      ]
     },
     "execution_count": 13,
     "metadata": {},
     "output_type": "execute_result"
    }
   ],
   "source": [
    "list(annotated_nodules.items())[:2]"
   ]
  },
  {
   "cell_type": "code",
   "execution_count": 29,
   "id": "c144affb-e87b-4f0d-a3ab-ea22c6ae1acf",
   "metadata": {},
   "outputs": [],
   "source": [
    "class CandidateInfoTuple(NamedTuple):\n",
    "  isNodule_bool: bool\n",
    "  candidateDiameter_mm: float\n",
    "  series_uid: str\n",
    "  candidateCenter_xyz: Tuple[float, float, float]\n",
    "\n",
    "requireOnDisk_bool = False  # set to True to only consider available images\n",
    "candidateInfo_list = []\n",
    "\n",
    "for x in candidates.itertuples():\n",
    "    uid = x.seriesuid\n",
    "    if uid not in presentOnDisk_set and requireOnDisk_bool:\n",
    "        continue\n",
    "    center_xyz = (float(x.coordX), float(x.coordY), float(x.coordZ))\n",
    "    isNodule_bool = bool(x._5) # 'class' is an invalid fieldname is is replaced by _5\n",
    "    diameter = 0\n",
    "    for annotation in annotated_nodules[uid]:\n",
    "        threshold = annotation.diameter_mm / 4\n",
    "        distance = np.sum(abs(np.subtract(center_xyz, annotation.center_xyz)))\n",
    "        if distance < threshold:\n",
    "            diameter = annotation.diameter_mm\n",
    "            break\n",
    "    info = CandidateInfoTuple(isNodule_bool, diameter, uid, center_xyz)\n",
    "    candidateInfo_list.append(info)\n",
    "    "
   ]
  },
  {
   "cell_type": "code",
   "execution_count": 31,
   "id": "b5e5949c-ab07-426f-bedb-ce352ca91a16",
   "metadata": {},
   "outputs": [],
   "source": [
    "positiveInfo_list = [x for x in candidateInfo_list if x.isNodule_bool]\n",
    "diameter_list = [x.candidateDiameter_mm for x in positiveInfo_list]"
   ]
  },
  {
   "cell_type": "code",
   "execution_count": 32,
   "id": "0f1c8db6-ef1e-4bc9-a256-04d7987e5416",
   "metadata": {},
   "outputs": [
    {
     "name": "stdout",
     "output_type": "stream",
     "text": [
      "1351\n",
      "CandidateInfoTuple(isNodule_bool=True, candidateDiameter_mm=4.224708481, series_uid='1.3.6.1.4.1.14519.5.2.1.6279.6001.100225287222365663678666836860', candidateCenter_xyz=(104.16480444, -211.685591018, -227.011363746))\n"
     ]
    }
   ],
   "source": [
    "print(len(positiveInfo_list))\n",
    "print(positiveInfo_list[0])"
   ]
  }
 ],
 "metadata": {
  "kernelspec": {
   "display_name": "Python 3 (ipykernel)",
   "language": "python",
   "name": "python3"
  },
  "language_info": {
   "codemirror_mode": {
    "name": "ipython",
    "version": 3
   },
   "file_extension": ".py",
   "mimetype": "text/x-python",
   "name": "python",
   "nbconvert_exporter": "python",
   "pygments_lexer": "ipython3",
   "version": "3.9.16"
  }
 },
 "nbformat": 4,
 "nbformat_minor": 5
}
