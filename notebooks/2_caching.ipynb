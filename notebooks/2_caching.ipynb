{
 "cells": [
  {
   "cell_type": "code",
   "execution_count": 1,
   "id": "dc1cb7e1-8e63-44cf-889b-c1994f69bf92",
   "metadata": {
    "tags": []
   },
   "outputs": [],
   "source": [
    "%%capture\n",
    "import sys\n",
    "!{sys.executable} -m pip install diskcache==4.1.0"
   ]
  },
  {
   "cell_type": "markdown",
   "id": "355527ee-e816-44af-84ca-2aa5b2d7f7a8",
   "metadata": {},
   "source": [
    "# Caching\n",
    "\n",
    "The authors stress that careful caching is important for a performant ML workflow.\n",
    "In chapter 2.10 they introduce the\n",
    "\n",
    "1. `@functools.lru_cache(1, typed=True)` decorator to cache the output of callables (functions, methods) in memory.\n",
    "2. `@raw_cache.memoize(typed=True)` decorator to cache the output of callables on disk.\n",
    "  - `raw_cache` is the created with the `utils.getCache` function and sets up a `diskcache.FanoutCache` in the `data-unversioned/cache/` folder.\n",
    "\n",
    "## The `diskcache` module\n",
    "\n",
    "The [diskcache](https://grantjenks.com/docs/diskcache/tutorial.html) module manages\n",
    "a disk and file backed cache, and its \n",
    "[tutorial page](https://grantjenks.com/docs/diskcache/tutorial.html)\n",
    "highlights the main functionality of the module.\n",
    "\n",
    "## The `Cache` object\n",
    "\n",
    "The core object is an instances of the `Cache` class, which\n",
    "is linked to a directory, either \n",
    "\n",
    "- user-specified as the argument to `Cache()` or\n",
    "- a temporary directory that is automatically created\n",
    "\n",
    "and keeps track of the cached items (and their attributes) in a SQLite database.\n",
    "\n",
    "### Creating a cache\n",
    "\n",
    "A Cache object is created with a call to `Cache()`. \n",
    "It must be explictely closed after use."
   ]
  },
  {
   "cell_type": "code",
   "execution_count": 2,
   "id": "783db835-ca84-4b3a-ba65-e3a6a967c02e",
   "metadata": {},
   "outputs": [
    {
     "name": "stdout",
     "output_type": "stream",
     "text": [
      "/tmp/diskcache-ihlj76kw\n"
     ]
    }
   ],
   "source": [
    "from diskcache import Cache\n",
    "cache = Cache()  # use temporary directory\n",
    "print(cache.directory)\n",
    "cache.close()"
   ]
  },
  {
   "cell_type": "markdown",
   "id": "9256efc4-ecca-4f56-bb4d-3e8a820a0600",
   "metadata": {},
   "source": [
    "Alternatively, a context manager can be used to ensure that\n",
    "the connection is closed after use:"
   ]
  },
  {
   "cell_type": "code",
   "execution_count": 3,
   "id": "f6775504-6c87-448d-b3ba-227d94defc1a",
   "metadata": {},
   "outputs": [],
   "source": [
    "with Cache(cache.directory) as reference:\n",
    "    reference['key'] = 'value'"
   ]
  },
  {
   "cell_type": "markdown",
   "id": "b80bbb64-06d2-45f8-885e-b2985d58e9b1",
   "metadata": {},
   "source": [
    "Closed Cache objects will automatically re-open when accessed, but that's a relatively slow operation."
   ]
  },
  {
   "cell_type": "markdown",
   "id": "160f7a63-c7a0-4187-9679-74785c8beb6c",
   "metadata": {},
   "source": [
    "### Adding & retrieving objects\n",
    "\n",
    "The [Cache object](https://grantjenks.com/docs/diskcache/api.html#id3)\n",
    "behaves similar to a python Dictionary:"
   ]
  },
  {
   "cell_type": "code",
   "execution_count": 4,
   "id": "46666750-0b30-4ef9-a625-1f7d639663a4",
   "metadata": {},
   "outputs": [
    {
     "data": {
      "text/plain": [
       "True"
      ]
     },
     "execution_count": 4,
     "metadata": {},
     "output_type": "execute_result"
    }
   ],
   "source": [
    "'key' in cache"
   ]
  },
  {
   "cell_type": "code",
   "execution_count": 5,
   "id": "99566263-b271-4805-93f8-1584e4dcaca5",
   "metadata": {},
   "outputs": [
    {
     "data": {
      "text/plain": [
       "'value'"
      ]
     },
     "execution_count": 5,
     "metadata": {},
     "output_type": "execute_result"
    }
   ],
   "source": [
    "cache['key']"
   ]
  },
  {
   "cell_type": "code",
   "execution_count": 6,
   "id": "78042e91-a73b-4565-9d03-6dfd2e63ade4",
   "metadata": {},
   "outputs": [
    {
     "data": {
      "text/plain": [
       "'value'"
      ]
     },
     "execution_count": 6,
     "metadata": {},
     "output_type": "execute_result"
    }
   ],
   "source": [
    "cache['key']"
   ]
  },
  {
   "cell_type": "code",
   "execution_count": 7,
   "id": "db87e675-7828-48fb-9b3a-b4fe3b3ec90e",
   "metadata": {},
   "outputs": [
    {
     "data": {
      "text/plain": [
       "['key']"
      ]
     },
     "execution_count": 7,
     "metadata": {},
     "output_type": "execute_result"
    }
   ],
   "source": [
    "cache['key'] = 'newvalue'\n",
    "[x for x in cache]"
   ]
  },
  {
   "cell_type": "markdown",
   "id": "1ae5c71a-82cc-4af6-8e2e-a896c18c63c3",
   "metadata": {},
   "source": [
    "The `.set()` and `.get()` methods come with additional keyword parameters:\n",
    "\n",
    "#### [set](https://grantjenks.com/docs/diskcache/api.html#diskcache.Cache.set)\n",
    "\n",
    "- `expire`: seconds until item expires\n",
    "- `read`: read value as bytes from file?\n",
    "- `tag`: text to associate with key\n",
    "- `retry`: retry if database timeout occurs \n",
    "\n",
    "The following example addsa BytesIO object to the cache,\n",
    "which needs to be read as a (binary) file."
   ]
  },
  {
   "cell_type": "code",
   "execution_count": 8,
   "id": "a1f37134-94f0-4f87-b4b1-428e6245be64",
   "metadata": {},
   "outputs": [
    {
     "data": {
      "text/plain": [
       "True"
      ]
     },
     "execution_count": 8,
     "metadata": {},
     "output_type": "execute_result"
    }
   ],
   "source": [
    "from io import BytesIO\n",
    "cache.set('key', BytesIO(b'value'), expire=5, read=True, tag='data')"
   ]
  },
  {
   "cell_type": "markdown",
   "id": "9434aa73-90f8-4262-8b22-01c7b5a0fbef",
   "metadata": {},
   "source": [
    "#### [get](https://grantjenks.com/docs/diskcache/api.html#diskcache.Cache.get)\n",
    "\n",
    "- `default`: value to return if key is missing\n",
    "- `read`: return file handle to value?\n",
    "- `expire_time`: return expire_time in tuple?\n",
    "- `tag`: return tag in tuple?\n",
    "- `retry`: retry if database timeout occurs?"
   ]
  },
  {
   "cell_type": "code",
   "execution_count": 9,
   "id": "bf3f1f23-f1da-4e97-8a2a-bb1b9eaaf5fa",
   "metadata": {},
   "outputs": [
    {
     "name": "stdout",
     "output_type": "stream",
     "text": [
      "value\n"
     ]
    }
   ],
   "source": [
    "result = cache.get('key', read=True, expire_time=True, tag=True)\n",
    "reader, timestamp, tag = result\n",
    "print(reader.read().decode())"
   ]
  },
  {
   "cell_type": "code",
   "execution_count": 10,
   "id": "35380c00-a9d8-4bfe-9e0c-0422a4045822",
   "metadata": {},
   "outputs": [
    {
     "data": {
      "text/plain": [
       "1684168934.3760946"
      ]
     },
     "execution_count": 10,
     "metadata": {},
     "output_type": "execute_result"
    }
   ],
   "source": [
    "timestamp"
   ]
  },
  {
   "cell_type": "code",
   "execution_count": 11,
   "id": "9d264e05-d706-43d2-abbf-45dcb5ec76e3",
   "metadata": {},
   "outputs": [
    {
     "name": "stdout",
     "output_type": "stream",
     "text": [
      "data\n"
     ]
    }
   ],
   "source": [
    "print(tag)  # the tag"
   ]
  },
  {
   "cell_type": "markdown",
   "id": "e50b776c-bfe5-46d7-9c1c-c515c6aa820c",
   "metadata": {},
   "source": [
    "#### [add](https://grantjenks.com/docs/diskcache/api.html#diskcache.Cache.add)\n",
    "\n",
    "The `add()` method only adds a key to the cache if it _doesn't exist, yet_. Existing values are _not_ updated."
   ]
  },
  {
   "cell_type": "code",
   "execution_count": 12,
   "id": "ad478ace-9e4a-4966-859b-9ca5ef531a2b",
   "metadata": {},
   "outputs": [
    {
     "data": {
      "text/plain": [
       "b'value'"
      ]
     },
     "execution_count": 12,
     "metadata": {},
     "output_type": "execute_result"
    }
   ],
   "source": [
    "cache.add('key', 'other_value')\n",
    "cache['key']  # not updated"
   ]
  },
  {
   "cell_type": "markdown",
   "id": "33520b0f-4629-4eeb-9ff5-ea2d2dd41598",
   "metadata": {},
   "source": [
    "### Removing items from the cache\n",
    "\n",
    "There are numerous ways to remove items from the cache, some of which perform\n",
    "queries on the SQLite database e.g. to identify items matching a specific _tag_.\n",
    "\n",
    "#### `del`\n",
    "\n",
    "An individual item can be deleted from the cache with the `del` command:"
   ]
  },
  {
   "cell_type": "code",
   "execution_count": 13,
   "id": "66662cc6-7e2e-4447-8d8c-7db2fb8edf72",
   "metadata": {},
   "outputs": [
    {
     "data": {
      "text/plain": [
       "'Not found'"
      ]
     },
     "execution_count": 13,
     "metadata": {},
     "output_type": "execute_result"
    }
   ],
   "source": [
    "del cache['key']\n",
    "cache.get('key', default='Not found')"
   ]
  },
  {
   "cell_type": "markdown",
   "id": "a020e7ce-749f-4c92-9ec4-4053f3bc6a68",
   "metadata": {},
   "source": [
    "#### [pop](https://grantjenks.com/docs/diskcache/api.html#diskcache.Cache.pop)\n",
    "\n",
    "`.pop()` removes an item from the cache and return its value:"
   ]
  },
  {
   "cell_type": "code",
   "execution_count": 14,
   "id": "6d0ca69b-9df4-4120-a19e-98d141a232ff",
   "metadata": {},
   "outputs": [
    {
     "data": {
      "text/plain": [
       "'new_key'"
      ]
     },
     "execution_count": 14,
     "metadata": {},
     "output_type": "execute_result"
    }
   ],
   "source": [
    "cache['key'] = 'new_key'\n",
    "cache.pop('key')"
   ]
  },
  {
   "cell_type": "markdown",
   "id": "9ff84670-a7bb-46f0-895e-9f817d98fbfd",
   "metadata": {},
   "source": [
    "#### [clear](https://grantjenks.com/docs/diskcache/api.html#diskcache.Cache.clear)\n",
    "\n",
    "Removes _all_ items from cache"
   ]
  },
  {
   "cell_type": "code",
   "execution_count": 15,
   "id": "605a2d6b-8f5e-42c3-99fa-a03fadf2fc0e",
   "metadata": {},
   "outputs": [
    {
     "data": {
      "text/plain": [
       "[]"
      ]
     },
     "execution_count": 15,
     "metadata": {},
     "output_type": "execute_result"
    }
   ],
   "source": [
    "cache['key'] = 'a_key'\n",
    "cache.clear()\n",
    "[x for x in cache]"
   ]
  },
  {
   "cell_type": "markdown",
   "id": "b77673b7-e11d-4ff0-aa26-291fcad7f0a4",
   "metadata": {},
   "source": [
    "#### [evict](https://grantjenks.com/docs/diskcache/api.html#diskcache.Cache.evict)\n",
    "\n",
    "Remove items with matching tag from cache. (The lookup of tags can be sped up by \n",
    "creating an index, by setting `Cache(tag_index=True)` when the cache is created or\n",
    "via the `.create_tag_index()` method on an existing cache."
   ]
  },
  {
   "cell_type": "code",
   "execution_count": 16,
   "id": "fd240771-5e7f-4b81-acb0-8c53eed8955c",
   "metadata": {},
   "outputs": [
    {
     "data": {
      "text/plain": [
       "['key1', 'key2']"
      ]
     },
     "execution_count": 16,
     "metadata": {},
     "output_type": "execute_result"
    }
   ],
   "source": [
    "cache.set('key1', 'yet_another_key', tag = 'first')\n",
    "cache.set('key2', 'yup,another key', tag = 'second')\n",
    "[x for x in cache]"
   ]
  },
  {
   "cell_type": "code",
   "execution_count": 17,
   "id": "684eff26-3aa6-4da9-baa4-8e9ec3768aa6",
   "metadata": {},
   "outputs": [
    {
     "data": {
      "text/plain": [
       "['key2']"
      ]
     },
     "execution_count": 17,
     "metadata": {},
     "output_type": "execute_result"
    }
   ],
   "source": [
    "cache.evict(tag = 'first')\n",
    "[x for x in cache]"
   ]
  },
  {
   "cell_type": "markdown",
   "id": "477a8ab8-ee95-4bde-85e4-4ab218c9503c",
   "metadata": {},
   "source": [
    "### Timeout\n",
    "\n",
    "The `timeout` parameter, sets a limit on how long to wait for database transactions\n",
    "before raising a `diskcache.Timeout` error is raised. The default timeout is 0.010 (10 milliseconds)."
   ]
  },
  {
   "cell_type": "markdown",
   "id": "9f91eb2d-6c2d-4ec8-a879-0b0c7c0703fd",
   "metadata": {},
   "source": [
    "## The `FanoutCache`\n",
    "\n",
    "This Class automatically shards the underlying database, e.g. it splits the SQLite\n",
    "database into multiple smaller ones to decrease blocking writes to any single one.\n",
    "\n",
    "A shard for every concurrent writer is suggested, the default is 8.\n",
    "\n",
    "As opposed to the `Cache`, a `FanoutCache` catches all timeout errors and aborts the operation. As a result, set and delete methods may silently fail.\n",
    "\n",
    "For example, the following creates a cache in a temporary directory with four shards and a one second timeout:"
   ]
  },
  {
   "cell_type": "code",
   "execution_count": 18,
   "id": "d564b614-cf65-478f-a531-95948b9f9080",
   "metadata": {},
   "outputs": [],
   "source": [
    "from diskcache import FanoutCache\n",
    "cache = FanoutCache(shards=4, timeout=1)"
   ]
  },
  {
   "cell_type": "markdown",
   "id": "81bca1ad-4087-4820-bea3-afc6c9e15d45",
   "metadata": {},
   "source": [
    "### Memoization"
   ]
  },
  {
   "cell_type": "markdown",
   "id": "b75abe22-c216-4d92-969a-8a0c7f9f095f",
   "metadata": {},
   "source": [
    "Caches have an additional feature: the `@memoize` decorator that caches arguments and return values of _callables_ (e.g. functions and methods). \n",
    "It is similar to the `functools.lru_cache` decorator (and accepts the same\n",
    "arguments).\n",
    "\n",
    "This decorator can be used to add the results of calls to the (on-disk) cache.\n",
    "(Remember to include parentheses when adding the decorator: `@cache.memoize()`."
   ]
  },
  {
   "cell_type": "code",
   "execution_count": 19,
   "id": "42164649-0bb7-4e42-b299-a8703a9307b3",
   "metadata": {},
   "outputs": [
    {
     "name": "stdout",
     "output_type": "stream",
     "text": [
      "573147844013817084100\n"
     ]
    }
   ],
   "source": [
    "@cache.memoize(typed=True, expire=1, tag='fib')\n",
    "def fibonacci(number):\n",
    "    if number == 0:\n",
    "        return 0\n",
    "    elif number == 1:\n",
    "        return 1\n",
    "    else:\n",
    "        return fibonacci(number - 1) + fibonacci(number - 2)\n",
    "print(sum(fibonacci(value) for value in range(100)))"
   ]
  },
  {
   "cell_type": "markdown",
   "id": "bd4b6776-3101-4c3d-b97c-67585513edaa",
   "metadata": {},
   "source": [
    "## Deque and Index classes\n",
    "\n",
    "A `Deque` is a `collections.deque`-compatible double-ended queue, but - because it\n",
    "stores the objects on disk - it requires a constant amount of memory.\n",
    "\n",
    "Use the `push`, `pull`, and `peek` methods to interact with a `diskcache.Deque`.\n",
    "\n",
    "The `diskcache.Index` provides a mutable mapping and _ordered dictionary_ interface.\n",
    "Index objects inherit all the benefits of Cache objects but never evict or expire items."
   ]
  },
  {
   "cell_type": "markdown",
   "id": "b99eb2a0-459b-42e3-85a0-a06e1122185f",
   "metadata": {},
   "source": [
    "## [Disk](https://grantjenks.com/docs/diskcache/tutorial.html#disk)\n",
    "\n",
    "All objects are serialized and deserialized as `diskcache.Disk` objects.\n",
    "Keys are always stored in the cache metadata database while values are sometimes stored separately in files. \n",
    "\n",
    "Four data types can be stored natively in the cache metadata database: `integers`, `floats`, `strings`, and `bytes`. Other datatypes are converted to bytes via the [Pickle protocol](https://docs.python.org/3/library/pickle.html).\n",
    "\n",
    "To use serialization types other than Pickle, you may pass in a Disk subclass to initialize the cache using different file types. For example, the following `JSONDisk` class uses compressed JSON files instead. (The \n",
    "[JSONDisk class](https://grantjenks.com/docs/diskcache/api.html#jsondisk) is\n",
    "included in the `diskcache` module as well.)"
   ]
  },
  {
   "cell_type": "code",
   "execution_count": 20,
   "id": "6f04afe4-ec66-41d9-8cc9-940c79df311a",
   "metadata": {},
   "outputs": [],
   "source": [
    "from diskcache import Disk, UNKNOWN\n",
    "class JSONDisk(Disk):\n",
    "    def __init__(self, directory, compress_level=1, **kwargs):\n",
    "        self.compress_level = compress_level\n",
    "        super().__init__(directory, **kwargs)\n",
    "\n",
    "    def put(self, key):\n",
    "        json_bytes = json.dumps(key).encode('utf-8')\n",
    "        data = zlib.compress(json_bytes, self.compress_level)\n",
    "        return super().put(data)\n",
    "\n",
    "    def get(self, key, raw):\n",
    "        data = super().get(key, raw)\n",
    "        return json.loads(zlib.decompress(data).decode('utf-8'))\n",
    "\n",
    "    def store(self, value, read, key=UNKNOWN):\n",
    "        if not read:\n",
    "            json_bytes = json.dumps(value).encode('utf-8')\n",
    "            value = zlib.compress(json_bytes, self.compress_level)\n",
    "        return super().store(value, read, key=key)\n",
    "\n",
    "    def fetch(self, mode, filename, value, read):\n",
    "        data = super().fetch(mode, filename, value, read)\n",
    "        if not read:\n",
    "            data = json.loads(zlib.decompress(data).decode('utf-8'))\n",
    "        return data\n",
    "\n",
    "with Cache(disk=JSONDisk, disk_compress_level=6) as cache:\n",
    "    pass"
   ]
  },
  {
   "cell_type": "markdown",
   "id": "482769a9-2dba-44d1-bc63-50a413076fb8",
   "metadata": {},
   "source": [
    "## [Settings](https://grantjenks.com/docs/diskcache/tutorial.html#settings)\n",
    "\n",
    "Additional settings can be specified to improve performance of a cache, including\n",
    "\n",
    "- `size_limit`: 1 Gb by default\n",
    "- `cull_limit`: The maximum number of keys to cull when adding a new item.\n",
    "- `statistics`: Collect cache statistics?\n",
    "- `tag_index`: Create and index for tags?\n",
    "- `eviction_policy`: Determines the [eviction policy](https://grantjenks.com/docs/diskcache/tutorial.html#eviction-policies)."
   ]
  },
  {
   "cell_type": "markdown",
   "id": "c4c48098-d2e2-4439-922b-96aa29404ad2",
   "metadata": {},
   "source": [
    "## Errors\n",
    "\n",
    "- When the disk or database is full, a `sqlite3.OperationalError` will be raised.\n"
   ]
  },
  {
   "cell_type": "markdown",
   "id": "9de5d486-afa2-4ef6-b401-f951d278851e",
   "metadata": {},
   "source": [
    "## Caching in Part 2\n",
    "\n",
    "In the second part of the book, the authors use a helper module `disk.py` that defines:\n",
    "\n",
    "1. The custom `GzipDisk` class, a subclass of `diskcache.Disk`, to store items as gzip compressed files\n",
    "  - Files are split into chunks of 1 Gb (2e30 bytes) because python 2 had problems managing larger files. The chunks are recombined when \n",
    "    an item is retrieved from the cache.\n",
    "2. The `getCache()` function that creates a `FanoutCache` object:\n",
    "  - In the `data-unversioned/cache/` folder\n",
    "  - With 64 shards\n",
    "  - A timeout of 1 second\n",
    "  - A size limit of 3e11\n"
   ]
  }
 ],
 "metadata": {
  "kernelspec": {
   "display_name": "Python 3 (ipykernel)",
   "language": "python",
   "name": "python3"
  },
  "language_info": {
   "codemirror_mode": {
    "name": "ipython",
    "version": 3
   },
   "file_extension": ".py",
   "mimetype": "text/x-python",
   "name": "python",
   "nbconvert_exporter": "python",
   "pygments_lexer": "ipython3",
   "version": "3.9.16"
  }
 },
 "nbformat": 4,
 "nbformat_minor": 5
}
